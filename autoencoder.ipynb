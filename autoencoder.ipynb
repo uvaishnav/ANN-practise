{
 "cells": [
  {
   "cell_type": "code",
   "execution_count": 12,
   "metadata": {},
   "outputs": [],
   "source": [
    "from keras.datasets import mnist\n",
    "import numpy as np\n",
    "import matplotlib.pyplot as plt"
   ]
  },
  {
   "cell_type": "code",
   "execution_count": 13,
   "metadata": {},
   "outputs": [],
   "source": [
    "(trainX,trainY),(testX,testY)=mnist.load_data()"
   ]
  },
  {
   "cell_type": "code",
   "execution_count": 14,
   "metadata": {},
   "outputs": [
    {
     "name": "stdout",
     "output_type": "stream",
     "text": [
      "[[  0   0   0   0   0   0   0   0   0   0   0   0   0   0   0   0   0   0\n",
      "    0   0   0   0   0   0   0   0   0   0]\n",
      " [  0   0   0   0   0   0   0   0   0   0   0   0   0   0   0   0   0   0\n",
      "    0   0   0   0   0   0   0   0   0   0]\n",
      " [  0   0   0   0   0   0   0   0   0   0   0   0   0   0   0   0   0   0\n",
      "    0   0   0   0   0   0   0   0   0   0]\n",
      " [  0   0   0   0   0   0   0   0   0   0   0   0   0   0   0   0   0   0\n",
      "    0   0   0   0   0   0   0   0   0   0]\n",
      " [  0   0   0   0   0   0   0   0   0   0   0   0   0   0   0   0   0   0\n",
      "    0   0   0   0   0   0   0   0   0   0]\n",
      " [  0   0   0   0   0   0   0   0   0   0   0   0   3  18  18  18 126 136\n",
      "  175  26 166 255 247 127   0   0   0   0]\n",
      " [  0   0   0   0   0   0   0   0  30  36  94 154 170 253 253 253 253 253\n",
      "  225 172 253 242 195  64   0   0   0   0]\n",
      " [  0   0   0   0   0   0   0  49 238 253 253 253 253 253 253 253 253 251\n",
      "   93  82  82  56  39   0   0   0   0   0]\n",
      " [  0   0   0   0   0   0   0  18 219 253 253 253 253 253 198 182 247 241\n",
      "    0   0   0   0   0   0   0   0   0   0]\n",
      " [  0   0   0   0   0   0   0   0  80 156 107 253 253 205  11   0  43 154\n",
      "    0   0   0   0   0   0   0   0   0   0]\n",
      " [  0   0   0   0   0   0   0   0   0  14   1 154 253  90   0   0   0   0\n",
      "    0   0   0   0   0   0   0   0   0   0]\n",
      " [  0   0   0   0   0   0   0   0   0   0   0 139 253 190   2   0   0   0\n",
      "    0   0   0   0   0   0   0   0   0   0]\n",
      " [  0   0   0   0   0   0   0   0   0   0   0  11 190 253  70   0   0   0\n",
      "    0   0   0   0   0   0   0   0   0   0]\n",
      " [  0   0   0   0   0   0   0   0   0   0   0   0  35 241 225 160 108   1\n",
      "    0   0   0   0   0   0   0   0   0   0]\n",
      " [  0   0   0   0   0   0   0   0   0   0   0   0   0  81 240 253 253 119\n",
      "   25   0   0   0   0   0   0   0   0   0]\n",
      " [  0   0   0   0   0   0   0   0   0   0   0   0   0   0  45 186 253 253\n",
      "  150  27   0   0   0   0   0   0   0   0]\n",
      " [  0   0   0   0   0   0   0   0   0   0   0   0   0   0   0  16  93 252\n",
      "  253 187   0   0   0   0   0   0   0   0]\n",
      " [  0   0   0   0   0   0   0   0   0   0   0   0   0   0   0   0   0 249\n",
      "  253 249  64   0   0   0   0   0   0   0]\n",
      " [  0   0   0   0   0   0   0   0   0   0   0   0   0   0  46 130 183 253\n",
      "  253 207   2   0   0   0   0   0   0   0]\n",
      " [  0   0   0   0   0   0   0   0   0   0   0   0  39 148 229 253 253 253\n",
      "  250 182   0   0   0   0   0   0   0   0]\n",
      " [  0   0   0   0   0   0   0   0   0   0  24 114 221 253 253 253 253 201\n",
      "   78   0   0   0   0   0   0   0   0   0]\n",
      " [  0   0   0   0   0   0   0   0  23  66 213 253 253 253 253 198  81   2\n",
      "    0   0   0   0   0   0   0   0   0   0]\n",
      " [  0   0   0   0   0   0  18 171 219 253 253 253 253 195  80   9   0   0\n",
      "    0   0   0   0   0   0   0   0   0   0]\n",
      " [  0   0   0   0  55 172 226 253 253 253 253 244 133  11   0   0   0   0\n",
      "    0   0   0   0   0   0   0   0   0   0]\n",
      " [  0   0   0   0 136 253 253 253 212 135 132  16   0   0   0   0   0   0\n",
      "    0   0   0   0   0   0   0   0   0   0]\n",
      " [  0   0   0   0   0   0   0   0   0   0   0   0   0   0   0   0   0   0\n",
      "    0   0   0   0   0   0   0   0   0   0]\n",
      " [  0   0   0   0   0   0   0   0   0   0   0   0   0   0   0   0   0   0\n",
      "    0   0   0   0   0   0   0   0   0   0]\n",
      " [  0   0   0   0   0   0   0   0   0   0   0   0   0   0   0   0   0   0\n",
      "    0   0   0   0   0   0   0   0   0   0]]\n"
     ]
    },
    {
     "data": {
      "text/plain": [
       "(60000, 28, 28)"
      ]
     },
     "execution_count": 14,
     "metadata": {},
     "output_type": "execute_result"
    }
   ],
   "source": [
    "print(trainX[0])\n",
    "trainX.shape"
   ]
  },
  {
   "cell_type": "markdown",
   "metadata": {},
   "source": [
    "trainX was originally a 2D array with shape (samples, features), then after applying np.expand_dims(trainX, axis=-1), it would become a 3D array with shape (samples, features, 1). This can be helpful when working with convolutional neural networks (CNNs) that require a certain input shape."
   ]
  },
  {
   "cell_type": "code",
   "execution_count": 15,
   "metadata": {},
   "outputs": [],
   "source": [
    "trainX=np.expand_dims(trainX,axis=-1)\n",
    "testX=np.expand_dims(testX,axis=-1)"
   ]
  },
  {
   "cell_type": "code",
   "execution_count": 16,
   "metadata": {},
   "outputs": [
    {
     "name": "stdout",
     "output_type": "stream",
     "text": [
      "(60000, 28, 28, 1)\n"
     ]
    }
   ],
   "source": [
    "print(trainX.shape)\n"
   ]
  },
  {
   "cell_type": "markdown",
   "metadata": {},
   "source": [
    "Normalizing data"
   ]
  },
  {
   "cell_type": "code",
   "execution_count": 17,
   "metadata": {},
   "outputs": [],
   "source": [
    "trainX=trainX/255.0\n",
    "testX=testX/255.0"
   ]
  },
  {
   "cell_type": "markdown",
   "metadata": {},
   "source": [
    "Pictures Without Noise"
   ]
  },
  {
   "cell_type": "code",
   "execution_count": 18,
   "metadata": {},
   "outputs": [
    {
     "data": {
      "image/png": "[encoded data removed]",
      "text/plain": [
       "<Figure size 1000x1000 with 5 Axes>"
      ]
     },
     "metadata": {},
     "output_type": "display_data"
    }
   ],
   "source": [
    "plt.figure(figsize=(10,10))\n",
    "for i in range(5):\n",
    "    plt.subplot(1,5,i+1)\n",
    "    plt.xticks([])\n",
    "    plt.yticks([])\n",
    "    plt.grid(False)\n",
    "    plt.imshow(trainX[i].reshape(28,28),cmap='gray')  \n",
    "plt.tight_layout()\n",
    "# This line ensures that the subplots are laid out neatly within the figure, with appropriate spacing and padding.\n",
    "plt.show()"
   ]
  },
  {
   "cell_type": "markdown",
   "metadata": {},
   "source": [
    "As mnist images dosent have noise, we have to add noise to test our autoencoder"
   ]
  },
  {
   "cell_type": "code",
   "execution_count": 19,
   "metadata": {},
   "outputs": [],
   "source": [
    "trainNoise = np.random.normal(loc=0.5,scale=0.5,size=trainX.shape)\n",
    "testNoise = np.random.normal(loc=0.5,scale=0.5,size=testX.shape)\n",
    "trainXNoisy = np.clip(trainX+trainNoise,0,1)\n",
    "testXNoisy = np.clip(testX+testNoise,0,1)"
   ]
  },
  {
   "cell_type": "markdown",
   "metadata": {},
   "source": [
    "The np.random.normal() function is used to generate random values from a normal distribution. The parameters are as follows:\n",
    "  * loc: Mean of the distribution (center of the distribution).\n",
    "  * scale: Standard deviation of the distribution (spread or magnitude of the noise). \n",
    "  * size: Shape of the array to be generated, which corresponds to the shape of the trainX and testX arrays.\n",
    "\n",
    "So, trainNoise and testNoise will be arrays of the same shape as trainX and testX, respectively, containing random values sampled from a normal distribution with a mean of 0.5 and a standard deviation of 0.5.\n",
    "\n",
    "\n",
    "The addition of noise is performed element-wise, meaning each pixel value of the images is modified by adding a corresponding noise value.\n",
    "\n",
    "The np.clip() function is then used to ensure that the resulting noisy images have pixel values within the range [0, 1]. "
   ]
  },
  {
   "cell_type": "markdown",
   "metadata": {},
   "source": [
    "Pictures After adding Noise"
   ]
  },
  {
   "cell_type": "code",
   "execution_count": 20,
   "metadata": {},
   "outputs": [
    {
     "data": {
      "image/png": "[encoded data removed]",
      "text/plain": [
       "<Figure size 1000x1000 with 5 Axes>"
      ]
     },
     "metadata": {},
     "output_type": "display_data"
    }
   ],
   "source": [
    "plt.figure(figsize=(10,10))\n",
    "for i in range(5):\n",
    "    plt.subplot(1,5,i+1)\n",
    "    plt.xticks([])\n",
    "    plt.yticks([])\n",
    "    plt.grid(False)\n",
    "    plt.imshow(trainXNoisy[i].reshape(28,28),cmap=\"gray\")\n",
    "plt.tight_layout()\n",
    "plt.show()"
   ]
  },
  {
   "cell_type": "markdown",
   "metadata": {},
   "source": [
    "Archetecture"
   ]
  },
  {
   "cell_type": "code",
   "execution_count": 21,
   "metadata": {},
   "outputs": [],
   "source": [
    "import tensorflow as tf\n"
   ]
  },
  {
   "cell_type": "code",
   "execution_count": 22,
   "metadata": {},
   "outputs": [],
   "source": [
    "def encode(model):\n",
    "    model.add(tf.keras.layers.Conv2D(32,(3,3),activation=\"relu\",input_shape=(28,28,1),padding=\"same\"))\n",
    "    model.add(tf.keras.layers.MaxPooling2D((2,2),padding=\"same\"))\n",
    "    model.add(tf.keras.layers.Conv2D(32,(3,3),activation=\"relu\",padding=\"same\"))\n",
    "    model.add(tf.keras.layers.MaxPooling2D((2,2),padding=\"same\"))\n",
    "\n",
    "def decode(model):\n",
    "    model.add(tf.keras.layers.Conv2D(32,(3,3),activation=\"relu\",padding=\"same\"))\n",
    "    model.add(tf.keras.layers.UpSampling2D(size=(2,2)))\n",
    "    model.add(tf.keras.layers.Conv2D(32,(3,3),activation=\"relu\",padding=\"same\"))\n",
    "    model.add(tf.keras.layers.UpSampling2D(size=(2,2)))\n",
    "    model.add(tf.keras.layers.Conv2D(1,(3,3),activation=\"sigmoid\",padding=\"same\"))\n"
   ]
  },
  {
   "cell_type": "code",
   "execution_count": 23,
   "metadata": {},
   "outputs": [
    {
     "name": "stdout",
     "output_type": "stream",
     "text": [
      "Model: \"sequential\"\n",
      "_________________________________________________________________\n",
      " Layer (type)                Output Shape              Param #   \n",
      "=================================================================\n",
      " conv2d (Conv2D)             (None, 28, 28, 32)        320       \n",
      "                                                                 \n",
      " max_pooling2d (MaxPooling2  (None, 14, 14, 32)        0         \n",
      " D)                                                              \n",
      "                                                                 \n",
      " conv2d_1 (Conv2D)           (None, 14, 14, 32)        9248      \n",
      "                                                                 \n",
      " max_pooling2d_1 (MaxPoolin  (None, 7, 7, 32)          0         \n",
      " g2D)                                                            \n",
      "                                                                 \n",
      " conv2d_2 (Conv2D)           (None, 7, 7, 32)          9248      \n",
      "                                                                 \n",
      " up_sampling2d (UpSampling2  (None, 14, 14, 32)        0         \n",
      " D)                                                              \n",
      "                                                                 \n",
      " conv2d_3 (Conv2D)           (None, 14, 14, 32)        9248      \n",
      "                                                                 \n",
      " up_sampling2d_1 (UpSamplin  (None, 28, 28, 32)        0         \n",
      " g2D)                                                            \n",
      "                                                                 \n",
      " conv2d_4 (Conv2D)           (None, 28, 28, 1)         289       \n",
      "                                                                 \n",
      "=================================================================\n",
      "Total params: 28353 (110.75 KB)\n",
      "Trainable params: 28353 (110.75 KB)\n",
      "Non-trainable params: 0 (0.00 Byte)\n",
      "_________________________________________________________________\n"
     ]
    }
   ],
   "source": [
    "autoencoder=tf.keras.Sequential()\n",
    "encode(autoencoder)\n",
    "decode(autoencoder)\n",
    "\n",
    "\n",
    "autoencoder.summary()"
   ]
  },
  {
   "cell_type": "code",
   "execution_count": 24,
   "metadata": {},
   "outputs": [],
   "source": [
    "autoencoder.compile(\n",
    "    optimizer=\"adadelta\",\n",
    "    loss=\"binary_crossentropy\",\n",
    ")"
   ]
  },
  {
   "cell_type": "code",
   "execution_count": 26,
   "metadata": {},
   "outputs": [],
   "source": [
    "class MyCallback(tf.keras.callbacks.Callback):\n",
    "    def on_epoch_end(self, epoch, logs={}):\n",
    "        if(logs.get('loss')<0.15):\n",
    "            print(\"Loss Reached below 0.15 so< Cancelling the training\")\n",
    "            self.model.stop_training=True\n",
    "\n",
    "callback=MyCallback()"
   ]
  },
  {
   "cell_type": "markdown",
   "metadata": {},
   "source": [
    "Training CNN autoencoder"
   ]
  },
  {
   "cell_type": "code",
   "execution_count": 27,
   "metadata": {},
   "outputs": [
    {
     "name": "stdout",
     "output_type": "stream",
     "text": [
      "Epoch 1/100\n",
      "1875/1875 [==============================] - 29s 16ms/step - loss: 0.6037 - val_loss: 0.4897\n",
      "Epoch 2/100\n",
      "1875/1875 [==============================] - 28s 15ms/step - loss: 0.4714 - val_loss: 0.4592\n",
      "Epoch 3/100\n",
      "1875/1875 [==============================] - 28s 15ms/step - loss: 0.4347 - val_loss: 0.4117\n",
      "Epoch 4/100\n",
      "1875/1875 [==============================] - 29s 15ms/step - loss: 0.3757 - val_loss: 0.3415\n",
      "Epoch 5/100\n",
      "1875/1875 [==============================] - 30s 16ms/step - loss: 0.3091 - val_loss: 0.2864\n",
      "Epoch 6/100\n",
      "1875/1875 [==============================] - 30s 16ms/step - loss: 0.2730 - val_loss: 0.2631\n",
      "Epoch 7/100\n",
      "1875/1875 [==============================] - 30s 16ms/step - loss: 0.2560 - val_loss: 0.2495\n",
      "Epoch 8/100\n",
      "1875/1875 [==============================] - 30s 16ms/step - loss: 0.2444 - val_loss: 0.2390\n",
      "Epoch 9/100\n",
      "1875/1875 [==============================] - 31s 16ms/step - loss: 0.2350 - val_loss: 0.2302\n",
      "Epoch 10/100\n",
      "1875/1875 [==============================] - 31s 16ms/step - loss: 0.2270 - val_loss: 0.2228\n",
      "Epoch 11/100\n",
      "1875/1875 [==============================] - 31s 17ms/step - loss: 0.2203 - val_loss: 0.2164\n",
      "Epoch 12/100\n",
      "1875/1875 [==============================] - 32s 17ms/step - loss: 0.2143 - val_loss: 0.2107\n",
      "Epoch 13/100\n",
      "1875/1875 [==============================] - 31s 17ms/step - loss: 0.2090 - val_loss: 0.2057\n",
      "Epoch 14/100\n",
      "1875/1875 [==============================] - 31s 16ms/step - loss: 0.2043 - val_loss: 0.2012\n",
      "Epoch 15/100\n",
      "1875/1875 [==============================] - 31s 16ms/step - loss: 0.2003 - val_loss: 0.1973\n",
      "Epoch 16/100\n",
      "1875/1875 [==============================] - 31s 16ms/step - loss: 0.1967 - val_loss: 0.1940\n",
      "Epoch 17/100\n",
      "1875/1875 [==============================] - 31s 17ms/step - loss: 0.1936 - val_loss: 0.1910\n",
      "Epoch 18/100\n",
      "1875/1875 [==============================] - 31s 17ms/step - loss: 0.1909 - val_loss: 0.1884\n",
      "Epoch 19/100\n",
      "1875/1875 [==============================] - 31s 17ms/step - loss: 0.1885 - val_loss: 0.1860\n",
      "Epoch 20/100\n",
      "1875/1875 [==============================] - 31s 17ms/step - loss: 0.1862 - val_loss: 0.1838\n",
      "Epoch 21/100\n",
      "1875/1875 [==============================] - 31s 17ms/step - loss: 0.1842 - val_loss: 0.1819\n",
      "Epoch 22/100\n",
      "1875/1875 [==============================] - 32s 17ms/step - loss: 0.1824 - val_loss: 0.1802\n",
      "Epoch 23/100\n",
      "1875/1875 [==============================] - 32s 17ms/step - loss: 0.1807 - val_loss: 0.1786\n",
      "Epoch 24/100\n",
      "1875/1875 [==============================] - 32s 17ms/step - loss: 0.1792 - val_loss: 0.1771\n",
      "Epoch 25/100\n",
      "1875/1875 [==============================] - 31s 16ms/step - loss: 0.1778 - val_loss: 0.1757\n",
      "Epoch 26/100\n",
      "1875/1875 [==============================] - 31s 16ms/step - loss: 0.1764 - val_loss: 0.1743\n",
      "Epoch 27/100\n",
      "1875/1875 [==============================] - 31s 17ms/step - loss: 0.1751 - val_loss: 0.1731\n",
      "Epoch 28/100\n",
      "1875/1875 [==============================] - 31s 17ms/step - loss: 0.1739 - val_loss: 0.1718\n",
      "Epoch 29/100\n",
      "1875/1875 [==============================] - 31s 17ms/step - loss: 0.1727 - val_loss: 0.1707\n",
      "Epoch 30/100\n",
      "1875/1875 [==============================] - 31s 17ms/step - loss: 0.1716 - val_loss: 0.1696\n",
      "Epoch 31/100\n",
      "1875/1875 [==============================] - 32s 17ms/step - loss: 0.1705 - val_loss: 0.1685\n",
      "Epoch 32/100\n",
      "1875/1875 [==============================] - 33s 17ms/step - loss: 0.1695 - val_loss: 0.1675\n",
      "Epoch 33/100\n",
      "1875/1875 [==============================] - 32s 17ms/step - loss: 0.1685 - val_loss: 0.1666\n",
      "Epoch 34/100\n",
      "1875/1875 [==============================] - 32s 17ms/step - loss: 0.1676 - val_loss: 0.1656\n",
      "Epoch 35/100\n",
      "1875/1875 [==============================] - 32s 17ms/step - loss: 0.1667 - val_loss: 0.1647\n",
      "Epoch 36/100\n",
      "1875/1875 [==============================] - 32s 17ms/step - loss: 0.1658 - val_loss: 0.1639\n",
      "Epoch 37/100\n",
      "1875/1875 [==============================] - 32s 17ms/step - loss: 0.1650 - val_loss: 0.1630\n",
      "Epoch 38/100\n",
      "1875/1875 [==============================] - 32s 17ms/step - loss: 0.1642 - val_loss: 0.1622\n",
      "Epoch 39/100\n",
      "1875/1875 [==============================] - 32s 17ms/step - loss: 0.1634 - val_loss: 0.1615\n",
      "Epoch 40/100\n",
      "1875/1875 [==============================] - 32s 17ms/step - loss: 0.1626 - val_loss: 0.1608\n",
      "Epoch 41/100\n",
      "1875/1875 [==============================] - 32s 17ms/step - loss: 0.1619 - val_loss: 0.1600\n",
      "Epoch 42/100\n",
      "1875/1875 [==============================] - 32s 17ms/step - loss: 0.1612 - val_loss: 0.1593\n",
      "Epoch 43/100\n",
      "1875/1875 [==============================] - 32s 17ms/step - loss: 0.1605 - val_loss: 0.1586\n",
      "Epoch 44/100\n",
      "1875/1875 [==============================] - 32s 17ms/step - loss: 0.1598 - val_loss: 0.1579\n",
      "Epoch 45/100\n",
      "1875/1875 [==============================] - 32s 17ms/step - loss: 0.1592 - val_loss: 0.1573\n",
      "Epoch 46/100\n",
      "1875/1875 [==============================] - 32s 17ms/step - loss: 0.1586 - val_loss: 0.1567\n",
      "Epoch 47/100\n",
      "1875/1875 [==============================] - 32s 17ms/step - loss: 0.1580 - val_loss: 0.1561\n",
      "Epoch 48/100\n",
      "1875/1875 [==============================] - 32s 17ms/step - loss: 0.1574 - val_loss: 0.1555\n",
      "Epoch 49/100\n",
      "1875/1875 [==============================] - 32s 17ms/step - loss: 0.1568 - val_loss: 0.1549\n",
      "Epoch 50/100\n",
      "1875/1875 [==============================] - 32s 17ms/step - loss: 0.1562 - val_loss: 0.1544\n",
      "Epoch 51/100\n",
      "1875/1875 [==============================] - 32s 17ms/step - loss: 0.1557 - val_loss: 0.1538\n",
      "Epoch 52/100\n",
      "1875/1875 [==============================] - 32s 17ms/step - loss: 0.1551 - val_loss: 0.1533\n",
      "Epoch 53/100\n",
      "1875/1875 [==============================] - 32s 17ms/step - loss: 0.1546 - val_loss: 0.1528\n",
      "Epoch 54/100\n",
      "1875/1875 [==============================] - 32s 17ms/step - loss: 0.1541 - val_loss: 0.1523\n",
      "Epoch 55/100\n",
      "1875/1875 [==============================] - 32s 17ms/step - loss: 0.1537 - val_loss: 0.1518\n",
      "Epoch 56/100\n",
      "1875/1875 [==============================] - 32s 17ms/step - loss: 0.1532 - val_loss: 0.1514\n",
      "Epoch 57/100\n",
      "1875/1875 [==============================] - 32s 17ms/step - loss: 0.1527 - val_loss: 0.1509\n",
      "Epoch 58/100\n",
      "1875/1875 [==============================] - 32s 17ms/step - loss: 0.1523 - val_loss: 0.1505\n",
      "Epoch 59/100\n",
      "1875/1875 [==============================] - 32s 17ms/step - loss: 0.1519 - val_loss: 0.1500\n",
      "Epoch 60/100\n",
      "1875/1875 [==============================] - 32s 17ms/step - loss: 0.1514 - val_loss: 0.1496\n",
      "Epoch 61/100\n",
      "1875/1875 [==============================] - 33s 17ms/step - loss: 0.1510 - val_loss: 0.1492\n",
      "Epoch 62/100\n",
      "1875/1875 [==============================] - 33s 17ms/step - loss: 0.1506 - val_loss: 0.1488\n",
      "Epoch 63/100\n",
      "1875/1875 [==============================] - 33s 17ms/step - loss: 0.1502 - val_loss: 0.1484\n",
      "Epoch 64/100\n",
      "1873/1875 [============================>.] - ETA: 0s - loss: 0.1499Loss Reached below 0.15 so< Cancelling the training\n",
      "1875/1875 [==============================] - 32s 17ms/step - loss: 0.1499 - val_loss: 0.1480\n"
     ]
    }
   ],
   "source": [
    "train=autoencoder.fit(\n",
    "    trainXNoisy, trainX,\n",
    "    epochs=100,\n",
    "    validation_data=(testXNoisy,testX),\n",
    "    batch_size=32,\n",
    "    callbacks=[callback]\n",
    ")"
   ]
  },
  {
   "cell_type": "code",
   "execution_count": 28,
   "metadata": {},
   "outputs": [
    {
     "data": {
      "image/png": "[encoded data removed]",
      "text/plain": [
       "<Figure size 640x480 with 1 Axes>"
      ]
     },
     "metadata": {},
     "output_type": "display_data"
    }
   ],
   "source": [
    "\n",
    "plt.plot(train.history['loss'],label=\"training loss\")\n",
    "plt.plot(train.history[\"val_loss\"],label=\"testing loss\")\n",
    "plt.xlabel(\"Epoch\")\n",
    "plt.ylabel(\"Loss\")\n",
    "plt.title(\"LOSS ANALYSIS\")\n",
    "plt.legend(loc=\"upper right\")\n",
    "plt.show()"
   ]
  },
  {
   "cell_type": "markdown",
   "metadata": {},
   "source": [
    "Pridicting The Reconstructed Images For the Original Images"
   ]
  },
  {
   "cell_type": "code",
   "execution_count": 29,
   "metadata": {},
   "outputs": [
    {
     "name": "stdout",
     "output_type": "stream",
     "text": [
      "313/313 [==============================] - 1s 4ms/step\n"
     ]
    }
   ],
   "source": [
    "predicted_images=autoencoder.predict(testXNoisy)"
   ]
  },
  {
   "cell_type": "markdown",
   "metadata": {},
   "source": [
    "Visualizing Our Results"
   ]
  },
  {
   "cell_type": "markdown",
   "metadata": {},
   "source": [
    "Original Test Images:"
   ]
  },
  {
   "cell_type": "code",
   "execution_count": 30,
   "metadata": {},
   "outputs": [
    {
     "data": {
      "image/png": "[encoded data removed]",
      "text/plain": [
       "<Figure size 1000x1000 with 5 Axes>"
      ]
     },
     "metadata": {},
     "output_type": "display_data"
    }
   ],
   "source": [
    "plt.figure(figsize=(10,10))\n",
    "for i in range(5):\n",
    "    plt.subplot(1,5,i+1)\n",
    "    plt.xticks([])\n",
    "    plt.yticks([])\n",
    "    plt.grid(False)\n",
    "    plt.imshow(testX[i].reshape(28,28),cmap=\"gray\")\n",
    "plt.tight_layout()\n",
    "plt.show()\n"
   ]
  },
  {
   "cell_type": "markdown",
   "metadata": {},
   "source": [
    "Noisy Test Images"
   ]
  },
  {
   "cell_type": "code",
   "execution_count": 31,
   "metadata": {},
   "outputs": [
    {
     "data": {
      "image/png": "[encoded data removed]",
      "text/plain": [
       "<Figure size 1000x1000 with 5 Axes>"
      ]
     },
     "metadata": {},
     "output_type": "display_data"
    }
   ],
   "source": [
    "plt.figure(figsize=(10,10))\n",
    "for i in range(5):\n",
    "    plt.subplot(1,5,i+1)\n",
    "    plt.xticks([])\n",
    "    plt.yticks([])\n",
    "    plt.grid(False)\n",
    "    plt.imshow(testXNoisy[i].reshape(28,28),cmap=\"gray\")\n",
    "plt.tight_layout()\n",
    "plt.show()\n"
   ]
  },
  {
   "cell_type": "markdown",
   "metadata": {},
   "source": [
    "Reconstructed Images with Our Autoencoder"
   ]
  },
  {
   "cell_type": "code",
   "execution_count": 32,
   "metadata": {},
   "outputs": [
    {
     "data": {
      "image/png": "[encoded data removed]",
      "text/plain": [
       "<Figure size 1000x1000 with 5 Axes>"
      ]
     },
     "metadata": {},
     "output_type": "display_data"
    }
   ],
   "source": [
    "plt.figure(figsize=(10,10))\n",
    "for i in range(5):\n",
    "    plt.subplot(1,5,i+1)\n",
    "    plt.xticks([])\n",
    "    plt.yticks([])\n",
    "    plt.grid(False)\n",
    "    plt.imshow(predicted_images[i].reshape(28,28),cmap=\"gray\")\n",
    "plt.tight_layout()\n",
    "plt.show()\n"
   ]
  },
  {
   "cell_type": "code",
   "execution_count": null,
   "metadata": {},
   "outputs": [],
   "source": []
  }
 ],
 "metadata": {
  "kernelspec": {
   "display_name": "base",
   "language": "python",
   "name": "python3"
  },
  "language_info": {
   "codemirror_mode": {
    "name": "ipython",
    "version": 3
   },
   "file_extension": ".py",
   "mimetype": "text/x-python",
   "name": "python",
   "nbconvert_exporter": "python",
   "pygments_lexer": "ipython3",
   "version": "3.11.3"
  },
  "orig_nbformat": 4
 },
 "nbformat": 4,
 "nbformat_minor": 2
}
